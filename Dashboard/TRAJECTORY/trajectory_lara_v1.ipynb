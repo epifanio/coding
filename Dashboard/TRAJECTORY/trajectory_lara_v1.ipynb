{
 "cells": [
  {
   "cell_type": "markdown",
   "id": "d56f6fd7-9c39-4e8b-b14e-a10704064927",
   "metadata": {},
   "source": [
    "For this use case we want to create a widget to plot and interact with a DATA resources of `FeatureType == trajectory` - the data is supposed to be available via the OpenDAP protocol in a netcdf format and follow the CF metadata convention.\n",
    "\n",
    "For this specific USE-CASE the main plot will be a *map* with a *trajectory*, then will be your work to design a widget to plot the data variables and interact with the data based on their \"DIMENSIONAL\" space - most common this will be a `TIME` dimension.\n",
    "\n",
    "The main purpose of the widget will be\n",
    "i.e.: **explore the time variability of a certain variable along the trajectory path**\n",
    "\n",
    "\n",
    "As libraries to design the widget we tend to use `panel` and the `pyviz` echosystem (`holoviews`, `geoviews`, `bokeh`, etc ..) "
   ]
  },
  {
   "cell_type": "markdown",
   "id": "4f59cc59-c761-42d9-a3a6-631b1e0e4e38",
   "metadata": {},
   "source": [
    "# Import libraries"
   ]
  },
  {
   "cell_type": "code",
   "execution_count": null,
   "id": "e065b813-4c95-4cf9-967a-2d8edb52aa55",
   "metadata": {},
   "outputs": [],
   "source": [
    "import holoviews as hv\n",
    "import hvplot.pandas\n",
    "import hvplot.xarray\n",
    "import netCDF4\n",
    "import numpy as np\n",
    "import panel as pn\n",
    "import xarray as xr\n",
    "\n",
    "# from matplotlib import pyplot as plt\n",
    "# %matplotlib inline"
   ]
  },
  {
   "cell_type": "code",
   "execution_count": null,
   "id": "703c907d-e54b-4c1b-a45e-4e7752cf957e",
   "metadata": {},
   "outputs": [],
   "source": [
    "pn.extension()"
   ]
  },
  {
   "cell_type": "markdown",
   "id": "6fd5631d-99b5-4867-b7b4-a74937d16a56",
   "metadata": {},
   "source": [
    "# TEST resources"
   ]
  },
  {
   "cell_type": "code",
   "execution_count": null,
   "id": "e664e384-aa60-487c-a2a6-1b0d5ea7e351",
   "metadata": {},
   "outputs": [],
   "source": [
    "Resources = {\n",
    "    \"a\": \"https://thredds.met.no/thredds/dodsC/arcticdata/arctic-passion/UiT-drifters/AWS-ITO/aws_2022.nc\",\n",
    "    \"b\": \"https://thredds.met.no/thredds/dodsC/arcticdata/arctic-passion/UiT-drifters/SIMBA/simba-510_air-temperature2022.nc\",\n",
    "    \"c\": \"https://thredds.niva.no/thredds/dodsC/datasets/norsoop/color_fantasy/merged_acdd_color_fantasy.nc\",\n",
    "    \"d\": \"https://thredds.niva.no/thredds/dodsC/datasets/nrt/color_fantasy.nc\",\n",
    "}\n",
    "\n",
    "# Checks need to be made in the function so that it is confirmed that the featureType is indeed a trajectory"
   ]
  },
  {
   "cell_type": "markdown",
   "id": "aa7f2c3a-e1a2-45dc-96ef-a55befa34d71",
   "metadata": {},
   "source": [
    "## ACCESS Resource ATTRIBUTES"
   ]
  },
  {
   "cell_type": "markdown",
   "id": "4f73d33f-18df-408e-83c1-75303e9af780",
   "metadata": {},
   "source": [
    "### Check for featureType "
   ]
  },
  {
   "cell_type": "code",
   "execution_count": null,
   "id": "2e511361-568b-4bfa-9b2c-58666a26195f",
   "metadata": {},
   "outputs": [],
   "source": [
    "for i in Resources:\n",
    "    dsa = xr.open_dataset(Resources[i])\n",
    "    if \"featureType\" in dsa.attrs.keys():\n",
    "        print(dsa.attrs[\"featureType\"])"
   ]
  },
  {
   "cell_type": "markdown",
   "id": "47022402-0f9b-42e3-9815-5f233361fbd6",
   "metadata": {},
   "source": [
    "## List DATA VARIABLES"
   ]
  },
  {
   "cell_type": "code",
   "execution_count": null,
   "id": "8608ba18-2279-43ca-a088-c39e0b6e69be",
   "metadata": {},
   "outputs": [],
   "source": [
    "list(dsa.variables)"
   ]
  },
  {
   "cell_type": "markdown",
   "id": "1d30c1f9-657c-4dc7-9b39-ee454a3aadd2",
   "metadata": {},
   "source": [
    "## ACCESS DATA VARIABLES ATTRIBUTES"
   ]
  },
  {
   "cell_type": "code",
   "execution_count": null,
   "id": "2cfba21a-a71c-490c-894c-8e9e297f6ba7",
   "metadata": {},
   "outputs": [],
   "source": [
    "dsa.variables[\"salinity\"].attrs"
   ]
  },
  {
   "cell_type": "markdown",
   "id": "4a41fe1e-109e-4f95-8148-2dbde869e03c",
   "metadata": {},
   "source": [
    "## List DATA DIMENSION"
   ]
  },
  {
   "cell_type": "code",
   "execution_count": null,
   "id": "0e99c11e-d18d-4fbc-9fa9-d9ea201f1b6e",
   "metadata": {},
   "outputs": [],
   "source": [
    "list(dsa.dims)"
   ]
  },
  {
   "cell_type": "markdown",
   "id": "2071db89-bec0-4635-a727-42ce1e5a3a51",
   "metadata": {},
   "source": [
    "Now you have all the elements to create a plot for each variables. You canuse the datas attributesd to create main title and description - then use the data variables attributes to specify axis labels and eventually units foir the plot of each vartiables."
   ]
  },
  {
   "cell_type": "code",
   "execution_count": null,
   "id": "0c3bcf3f-602e-4045-b9f8-c27865736aa5",
   "metadata": {},
   "outputs": [],
   "source": [
    "dsa.chlorophyll.plot()"
   ]
  },
  {
   "cell_type": "code",
   "execution_count": null,
   "id": "732f80f2-2365-43f3-a871-173c7ed052b5",
   "metadata": {},
   "outputs": [],
   "source": [
    "fig = (\n",
    "    dsa.to_dataframe()\n",
    "    .hvplot.points(x=\"longitude\", y=\"latitude\", geo=True, tiles=\"OSM\")\n",
    "    .opts(fontscale=2, width=500, height=400, title=\"Title\")\n",
    ")"
   ]
  },
  {
   "cell_type": "code",
   "execution_count": null,
   "id": "2128372b-b611-4f19-9e3d-5058726fafab",
   "metadata": {},
   "outputs": [],
   "source": [
    "fig"
   ]
  }
 ],
 "metadata": {
  "kernelspec": {
   "display_name": "Python 3 (ipykernel)",
   "language": "python",
   "name": "python3"
  },
  "language_info": {
   "codemirror_mode": {
    "name": "ipython",
    "version": 3
   },
   "file_extension": ".py",
   "mimetype": "text/x-python",
   "name": "python",
   "nbconvert_exporter": "python",
   "pygments_lexer": "ipython3",
   "version": "3.12.3"
  }
 },
 "nbformat": 4,
 "nbformat_minor": 5
}
