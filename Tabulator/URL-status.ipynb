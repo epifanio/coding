{
 "cells": [
  {
   "cell_type": "code",
   "execution_count": null,
   "id": "96617958-ac50-42e0-818a-b1603b6b14bd",
   "metadata": {},
   "outputs": [],
   "source": [
    "import pandas as pd\n",
    "import re\n",
    "import datetime as dt\n",
    "import numpy as np\n",
    "import panel as pn"
   ]
  },
  {
   "cell_type": "code",
   "execution_count": null,
   "id": "f45b0ad8",
   "metadata": {},
   "outputs": [],
   "source": [
    "%%file check-u202507101211.log\n",
    "2025-07-10 12:11:46,271 - solr-links-checker - INFO - Reading configuration from: ../etc/testcore.yml\n",
    "2025-07-10 12:11:46,577 - solr-links-checker - INFO - Number found: 10\n",
    "2025-07-10 12:11:47,039 - solr-links-checker - INFO - Finished fetching URLs list\n",
    "2025-07-10 12:11:47,390 - solr-links-checker - WARNING - BROKEN: link https://adc.met.no/dataset/49e70983-9eab-54fb-824a-93cacce5952a id: no.met.adc:49e70983-9eab-54fb-824a-93cacce5952a Status code: 404\n",
    "2025-07-10 12:11:47,394 - solr-links-checker - WARNING - BROKEN: link https://adc.met.no/dataset/cbfc9429-49c2-573a-9c36-bc83a8893422 id: no.met.adc:cbfc9429-49c2-573a-9c36-bc83a8893422 Status code: 404\n",
    "2025-07-10 12:11:47,402 - solr-links-checker - WARNING - BROKEN: link https://adc.met.no/dataset/8b37a406-5a74-5ffa-9826-5434d6e97dd9 id: no.met.adc:8b37a406-5a74-5ffa-9826-5434d6e97dd9 Status code: 404\n",
    "2025-07-10 12:11:47,414 - solr-links-checker - WARNING - BROKEN: link https://adc.met.no/dataset/75b77101-36bf-5324-bf81-0fb975fa6142 id: no.met.adc:75b77101-36bf-5324-bf81-0fb975fa6142 Status code: 404\n",
    "2025-07-10 12:11:47,422 - solr-links-checker - WARNING - BROKEN: link https://ogc-wms-from-netcdf-dev.k8s.met.no/klimakverna/ensemble-mean_ssp370_both-bc-sn2018v2005_rawbc_norway_1km_change-pr.nc?SERVICE=WMS&REQUEST=GetCapabilities id: no.met.adc:b6d9b196-f834-54a9-8bf7-af8d683b45eb Status code: 400\n",
    "2025-07-10 12:11:47,426 - solr-links-checker - WARNING - BROKEN: link https://ogc-wms-from-netcdf-dev.k8s.met.no/klimakverna/ensemble-mean_rcp26_both-bc-sn2018v2005_rawbc_norway_1km_change-pr.nc?SERVICE=WMS&REQUEST=GetCapabilities id: no.met.adc:bd2546ea-bba5-55e4-a18e-657521c6e4e3 Status code: 400\n",
    "2025-07-10 12:11:47,429 - solr-links-checker - WARNING - BROKEN: link https://ogc-wms-from-netcdf-dev.k8s.met.no/klimakverna/ensemble-mean_ssp370_both-bc-sn2018v2005_rawbc_norway_1km_diff-tas.nc?SERVICE=WMS&REQUEST=GetCapabilities id: no.met.adc:7b235c42-aa10-5fba-b98d-53e5b1e2034a Status code: 400\n",
    "2025-07-10 12:11:47,433 - solr-links-checker - WARNING - BROKEN: link https://ogc-wms-from-netcdf-dev.k8s.met.no/klimakverna/ensemble-mean_rcp26_both-bc-sn2018v2005_rawbc_norway_1km_change-pr.nc?SERVICE=WMS&REQUEST=GetCapabilities id: no.met.adc:9354b3cb-2794-5769-977b-c511778b985f Status code: 400\n",
    "2025-07-10 12:11:47,435 - solr-links-checker - WARNING - BROKEN: link https://ogc-wms-from-netcdf-dev.k8s.met.no/klimakverna/ensemble-mean_ssp370_both-bc-sn2018v2005_rawbc_norway_1km_diff-tas.nc?SERVICE=WMS&REQUEST=GetCapabilities id: no.met.adc:1c4cd1e6-4132-56ac-bcbd-2acae3dcb927 Status code: 400\n",
    "2025-07-10 12:11:47,438 - solr-links-checker - WARNING - BROKEN: link https://ogc-wms-from-netcdf-dev.k8s.met.no/klimakverna/ensemble-mean_ssp370_both-bc-sn2018v2005_rawbc_norway_1km_change-pr.nc?SERVICE=WMS&REQUEST=GetCapabilities id: no.met.adc:226730d4-c49d-566b-9466-b024409fa665 Status code: 400\n",
    "2025-07-10 12:11:47,957 - solr-links-checker - WARNING - BROKEN: link https://adc.met.no/dataset/b6d9b196-f834-54a9-8bf7-af8d683b45eb id: no.met.adc:b6d9b196-f834-54a9-8bf7-af8d683b45eb Status code: 404\n",
    "2025-07-10 12:11:47,959 - solr-links-checker - WARNING - BROKEN: link https://adc.met.no/dataset/1c4cd1e6-4132-56ac-bcbd-2acae3dcb927 id: no.met.adc:1c4cd1e6-4132-56ac-bcbd-2acae3dcb927 Status code: 404\n",
    "2025-07-10 12:11:47,961 - solr-links-checker - WARNING - BROKEN: link https://adc.met.no/dataset/7b235c42-aa10-5fba-b98d-53e5b1e2034a id: no.met.adc:7b235c42-aa10-5fba-b98d-53e5b1e2034a Status code: 404\n",
    "2025-07-10 12:11:47,963 - solr-links-checker - WARNING - BROKEN: link https://adc.met.no/dataset/bd2546ea-bba5-55e4-a18e-657521c6e4e3 id: no.met.adc:bd2546ea-bba5-55e4-a18e-657521c6e4e3 Status code: 404\n",
    "2025-07-10 12:11:47,965 - solr-links-checker - WARNING - BROKEN: link https://adc.met.no/dataset/226730d4-c49d-566b-9466-b024409fa665 id: no.met.adc:226730d4-c49d-566b-9466-b024409fa665 Status code: 404\n",
    "2025-07-10 12:11:47,966 - solr-links-checker - WARNING - BROKEN: link https://adc.met.no/dataset/9354b3cb-2794-5769-977b-c511778b985f id: no.met.adc:9354b3cb-2794-5769-977b-c511778b985f Status code: 404\n",
    "2025-07-10 12:11:47,967 - solr-links-checker - INFO - URLs checked: 28\n",
    "2025-07-10 12:11:47,967 - solr-links-checker - INFO - URLs broken: 16\n",
    "2025-07-10 12:11:47,967 - solr-links-checker - INFO - URLs Unreachable: 0\n",
    "2025-07-10 12:11:47,967 - solr-links-checker - INFO - Duration: 0:00:00.928130\n"
   ]
  },
  {
   "cell_type": "code",
   "execution_count": null,
   "id": "a0319df4",
   "metadata": {},
   "outputs": [],
   "source": [
    "log_dataframe = pd.read_csv('check-u202507101211.log', sep=' - ', header=None, names=['timestamp', 'logger', 'level', 'message'], engine='python')"
   ]
  },
  {
   "cell_type": "code",
   "execution_count": null,
   "id": "d94f34f8-74b0-4450-ac3a-dea60a92bc64",
   "metadata": {},
   "outputs": [],
   "source": [
    "#log_file = '/home/laraf/check-u.log'\n",
    "log_file = 'check-u202507101211.log'\n",
    "#tstamp = log_file.split('log-urls')[-1].split('.log')[0][0:8]\n",
    "data = []\n",
    "try:\n",
    "    with open(log_file, \"r\") as file:\n",
    "        lines = file.readlines()\n",
    "        ts = str(lines[0].split()[0])+str(lines[0].split()[1])\n",
    "        info = str('Timestamp: '+ts)+'<br>'\n",
    "        for line in lines:\n",
    "            if 'INFO' in line and 'URLs' in line and 'Finished' not in line:\n",
    "                info += str(line.split('INFO - ')[-1])\n",
    "            if 'BROKEN' in line:\n",
    "                #ts = str(line.split()[0])+str(line.split()[1])\n",
    "                etype = 'BROKEN'\n",
    "                status = line.split('Status code:')[-1].strip()\n",
    "                url = line.split('link')[-1].split('id')[0]\n",
    "                md = line.split('id:')[-1].split('Status code:')[0].strip()\n",
    "            elif 'TIMEOUT' in line:\n",
    "                #ts = str(line.split()[0])+str(line.split()[1])\n",
    "                etype = 'TIMEOUT'\n",
    "                status = ''\n",
    "                url = line.split('link')[-1].split('id')[0]\n",
    "                md = line.split('id:')[-1].split('Status code:')[0].strip()\n",
    "            elif 'EXCEPTION' in line:\n",
    "                #ts = str(line.split()[0])+str(line.split()[1])\n",
    "                etype = 'GENERIC ERROR'\n",
    "                status = ''\n",
    "                url = line.split('link')[-1].split('id')[0]\n",
    "                md = line.split('id:')[-1].split('Status code:')[0].strip()\n",
    "            else:\n",
    "                continue\n",
    "            data.append({'metadata_identifier': md, 'Error type': etype, 'Response status': status, 'url': url.strip()})\n",
    "    \n",
    "    df = pd.DataFrame(data)\n",
    "except FileNotFoundError:\n",
    "    print(\"Error: The log file was not found.\")"
   ]
  },
  {
   "cell_type": "code",
   "execution_count": null,
   "id": "c21c7a4a",
   "metadata": {},
   "outputs": [],
   "source": [
    "info"
   ]
  },
  {
   "cell_type": "code",
   "execution_count": null,
   "id": "9b09e91b",
   "metadata": {},
   "outputs": [],
   "source": [
    "data"
   ]
  },
  {
   "cell_type": "code",
   "execution_count": null,
   "id": "3e5b7a71",
   "metadata": {},
   "outputs": [],
   "source": [
    "df"
   ]
  },
  {
   "cell_type": "code",
   "execution_count": null,
   "id": "6de05e09-2746-4e84-8b2f-12fe785a0b8d",
   "metadata": {},
   "outputs": [],
   "source": [
    "#html_table = df.to_html(justify='center')\n",
    "#with open('output-status.html', 'w') as f:\n",
    "#    f.write(info)\n",
    "#    f.write(html_table)"
   ]
  },
  {
   "cell_type": "code",
   "execution_count": null,
   "id": "0c0a2a5c-ac51-4f0b-aa94-ddf31bda87cd",
   "metadata": {},
   "outputs": [],
   "source": [
    "pn.extension('tabulator')"
   ]
  },
  {
   "cell_type": "code",
   "execution_count": null,
   "id": "414ee43d-9f0b-4968-81ce-7e027027b44a",
   "metadata": {},
   "outputs": [],
   "source": [
    "df_widget = pn.widgets.Tabulator(df, buttons={'Print': \"<i class='fa fa-print'></i>\"})"
   ]
  },
  {
   "cell_type": "code",
   "execution_count": null,
   "id": "00383508-a426-4d72-9106-cea1273e2792",
   "metadata": {
    "scrolled": true
   },
   "outputs": [],
   "source": [
    "#filtering\n",
    "tabulator_filter = {\n",
    "    'url': {'type': 'input', 'func': 'like'},\n",
    "    'metadata_identifier':{'type': 'input', 'func': 'like'}\n",
    "}\n",
    "\n",
    "# header_filter_table = pn.widgets.Tabulator(\n",
    "#     df[['metadata_identifier','Error type','Response status','url']],\n",
    "#     editors=tabulator_filter, header_filters=tabulator_filter\n",
    "# )\n",
    "\n",
    "\n",
    "# header_filter_table = pn.widgets.Tabulator(\n",
    "#     df[['metadata_identifier', 'Error type', 'Response status', 'url']],\n",
    "#     editors={'url': None, 'metadata_identifier': None},  # None == read-only\n",
    "#     header_filters=tabulator_filter,\n",
    "#     formatters={'url': 'link'}  # Make URL clickable\n",
    "# )\n",
    "\n",
    "def status_color_html(value):\n",
    "    if value == '404':\n",
    "        return f\"<span style='color: red;'>{value}</span>\"\n",
    "    elif value == '400':\n",
    "        return f\"<span style='color: orange;'>{value}</span>\"\n",
    "    elif value == '':\n",
    "        return f\"<span style='color: gray;'>{value}</span>\"\n",
    "    else:\n",
    "        return f\"<span style='color: green;'>{value}</span>\"\n",
    "\n",
    "df['Response status html'] = df['Response status'].apply(status_color_html)\n",
    "\n",
    "header_filter_table = pn.widgets.Tabulator(\n",
    "    df[['metadata_identifier', 'Error type', 'Response status html', 'url']],\n",
    "    editors={'url': None, 'metadata_identifier': None},\n",
    "    header_filters=tabulator_filter,\n",
    "    formatters={\n",
    "        'url': 'link',\n",
    "        'Response status html': 'html'  # Use HTML formatter\n",
    "    }\n",
    ")\n",
    "\n",
    "#Download button\n",
    "filename, button = header_filter_table.download_menu(\n",
    "    text_kwargs={'name': 'Enter filename', 'value': 'default.csv'},\n",
    "    button_kwargs={'name': 'Download table'}\n",
    ")\n",
    "\n",
    "text_content = pn.pane.Markdown('**Summary**<br>'+info+'<br>See: <a href=\"https://developer.mozilla.org/en-US/docs/Web/HTTP/Reference/Status\">Info about status code</a>')\n",
    "table_report = pn.Column(text_content, pn.Row(filename, button), header_filter_table)"
   ]
  },
  {
   "cell_type": "code",
   "execution_count": null,
   "id": "94714189-39bb-47b0-86aa-395c5984f546",
   "metadata": {},
   "outputs": [],
   "source": [
    "pn.template.MaterialTemplate(\n",
    "    site=\"ADC\",\n",
    "    title=\"Status report of URLs for the Arctic Data Centre\",\n",
    "    main=[table_report],\n",
    ").servable(); #"
   ]
  },
  {
   "cell_type": "code",
   "execution_count": null,
   "id": "db3a221e-6871-4a8f-ae36-f3be7f53a604",
   "metadata": {},
   "outputs": [],
   "source": [
    "table_report"
   ]
  },
  {
   "cell_type": "code",
   "execution_count": null,
   "id": "901a5ea7",
   "metadata": {},
   "outputs": [],
   "source": []
  }
 ],
 "metadata": {
  "kernelspec": {
   "display_name": "Python 3 (ipykernel)",
   "language": "python",
   "name": "python3"
  }
 },
 "nbformat": 4,
 "nbformat_minor": 5
}
